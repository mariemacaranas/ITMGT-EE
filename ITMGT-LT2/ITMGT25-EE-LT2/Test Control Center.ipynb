{
 "cells": [
  {
   "cell_type": "markdown",
   "metadata": {},
   "source": [
    "# Long Test 2 Control Center\n",
    "\n",
    "This is your starting point for the exam. You will have three (3) hours to complete the test.\n",
    "\n",
    "Together with this notebook file, you have two other files contained in the same directory:\n",
    "\n",
    "- An encrypted file **encrypted_lt2_notebook.ipynb_enc** of the Jupyter Notebook for this Long Test\n",
    "- An encrypted file **encrypted_dataset.csv_enc** for the dataset that will be used for the test\n"
   ]
  },
  {
   "cell_type": "markdown",
   "metadata": {},
   "source": [
    "#### Before the exam\n",
    "\n",
    "Once your instructor says you may do so, run the immediate cell below. \n",
    "\n",
    "You will be prompted for a password.\n",
    "\n",
    "Enter the password the instructor gives you before the start of the exam.\n",
    "\n",
    "Wait for further instructions from the instructor."
   ]
  },
  {
   "cell_type": "code",
   "execution_count": 1,
   "metadata": {},
   "outputs": [
    {
     "data": {
      "text/markdown": [
       "Enter password: "
      ],
      "text/plain": [
       "<IPython.core.display.Markdown object>"
      ]
     },
     "metadata": {},
     "output_type": "display_data"
    },
    {
     "name": "stdout",
     "output_type": "stream",
     "text": [
      "s@g@d@c0ff33!\n"
     ]
    },
    {
     "data": {
      "text/markdown": [
       "Decrypting Long Test Notebook file..."
      ],
      "text/plain": [
       "<IPython.core.display.Markdown object>"
      ]
     },
     "metadata": {},
     "output_type": "display_data"
    },
    {
     "data": {
      "text/markdown": [
       "Done."
      ],
      "text/plain": [
       "<IPython.core.display.Markdown object>"
      ]
     },
     "metadata": {},
     "output_type": "display_data"
    },
    {
     "data": {
      "text/markdown": [
       "Decrypting dataset file"
      ],
      "text/plain": [
       "<IPython.core.display.Markdown object>"
      ]
     },
     "metadata": {},
     "output_type": "display_data"
    },
    {
     "data": {
      "text/markdown": [
       "Done."
      ],
      "text/plain": [
       "<IPython.core.display.Markdown object>"
      ]
     },
     "metadata": {},
     "output_type": "display_data"
    },
    {
     "data": {
      "text/markdown": [
       "Test files generated successfully."
      ],
      "text/plain": [
       "<IPython.core.display.Markdown object>"
      ]
     },
     "metadata": {},
     "output_type": "display_data"
    },
    {
     "data": {
      "text/markdown": [
       "Click <a href=\"LT2_Notebook.ipynb\" target=\"_blank\">here</a> to open the LT2 notebook."
      ],
      "text/plain": [
       "<IPython.core.display.Markdown object>"
      ]
     },
     "metadata": {},
     "output_type": "display_data"
    },
    {
     "data": {
      "text/markdown": [
       "Good luck!"
      ],
      "text/plain": [
       "<IPython.core.display.Markdown object>"
      ]
     },
     "metadata": {},
     "output_type": "display_data"
    }
   ],
   "source": [
    "import base64\n",
    "import os\n",
    "import os.path\n",
    "from cryptography.fernet import Fernet, InvalidToken, InvalidSignature\n",
    "from cryptography.hazmat.backends import default_backend\n",
    "from cryptography.hazmat.primitives import hashes\n",
    "from cryptography.hazmat.primitives.kdf.pbkdf2 import PBKDF2HMAC\n",
    "\n",
    "from IPython.display import display, Markdown, Latex\n",
    "\n",
    "\n",
    "EXAM_FILE_NAME = \"LT2_Notebook.ipynb\"\n",
    "DATASET_FILE_NAME = \"dataset.csv\"\n",
    "ENCRYPTED_EXAM_FILE_NAME = \"encrypted_lt2_notebook.ipynb_enc\"\n",
    "ENCRYPTED_DATASET_FILE_NAME = \"encrypted_dataset.csv_enc\"\n",
    "\n",
    "\n",
    "def read_encrypted_files():\n",
    "   \n",
    "    with open(ENCRYPTED_EXAM_FILE_NAME,\"r\") as encrypted_exam_file:\n",
    "        encrypted_exam_contents = encrypted_exam_file.read()\n",
    "    with open(ENCRYPTED_DATASET_FILE_NAME,\"r\") as encrypted_dataset_file:\n",
    "        encrypted_dataset_contents = encrypted_dataset_file.read()    \n",
    "    return encrypted_exam_contents, encrypted_dataset_contents\n",
    "\n",
    "def prepare_test(password):\n",
    "    salt = b\"ITMGT25\"\n",
    "    kdf = PBKDF2HMAC(\n",
    "             algorithm=hashes.SHA256(),\n",
    "             length=32,\n",
    "             salt=salt,\n",
    "             iterations=100000,\n",
    "             backend=default_backend()\n",
    "          )\n",
    "    key = base64.urlsafe_b64encode(kdf.derive(password))\n",
    "    \n",
    "    # check first if file exists. if it does, throw an error\n",
    "    \n",
    "    if(os.path.exists(EXAM_FILE_NAME)):\n",
    "        raise Exception('Could not proceed. Long Test file already exists. Either delete or rename it first.')\n",
    "    \n",
    "    f = Fernet(key)\n",
    "    encrypted_exam_contents, encrypted_dataset_contents = read_encrypted_files()\n",
    "    display(Markdown(\"Decrypting Long Test Notebook file...\"))\n",
    "    exam_contents = f.decrypt(encrypted_exam_contents.encode(\"utf-8\"))\n",
    "    display(Markdown(\"Done.\"))\n",
    "    display(Markdown(\"Decrypting dataset file\"))\n",
    "    dataset_contents = f.decrypt(encrypted_dataset_contents.encode(\"utf-8\"))\n",
    "    display(Markdown(\"Done.\"))\n",
    "\n",
    "    # write out to files\n",
    "    with open(EXAM_FILE_NAME,\"w\") as exam_file:\n",
    "        exam_file.write(exam_contents.decode(\"utf-8\"))\n",
    "    with open(DATASET_FILE_NAME,\"w\") as dataset_file:\n",
    "        dataset_file.write(dataset_contents.decode(\"utf-8\"))\n",
    "\n",
    "def main():    \n",
    "    \n",
    "    valid_sig = False\n",
    "    while(not valid_sig):\n",
    "        try:\n",
    "            display(Markdown(\"Enter password: \"))\n",
    "            password = input().encode(\"utf-8\")\n",
    "            prepare_test(password)\n",
    "            valid_sig = True\n",
    "\n",
    "            display(Markdown('Test files generated successfully.'))\n",
    "            display(Markdown('Click <a href=\"{}\" target=\"_blank\">here</a> to open the LT2 notebook.'.format(EXAM_FILE_NAME)))                \n",
    "            display(Markdown('Good luck!'))\n",
    "        except InvalidToken as e:\n",
    "            display(Markdown('Something wrong with your password. Please try again.'))\n",
    "        except Exception as ee:\n",
    "            display(Markdown(str(ee)))\n",
    "\n",
    "main()\n",
    "\n"
   ]
  },
  {
   "cell_type": "markdown",
   "metadata": {},
   "source": [
    "#### After the exam\n",
    "\n",
    "Once time is up, exit the tab of the Long Test 2 Jupyter Notebook you were working on.\n",
    "\n",
    "**Very important:** \n",
    "\n",
    "* **DO NOT RE-RUN** the cell above, or else your exam answers will be overwritten!\n",
    "* Shut down the kernel of the notebook before proceeding to the next steps.\n",
    "\n",
    "After leaving the exam venue and as soon as you have access to the Internet, commit your Long Test notebook file to your Github repository.\n",
    "\n",
    "Wait for the signal of the instructor to run the next cell. "
   ]
  },
  {
   "cell_type": "code",
   "execution_count": 2,
   "metadata": {},
   "outputs": [
    {
     "data": {
      "text/markdown": [
       "**Write down on a piece of paper the series of 32 large characters you see below:**"
      ],
      "text/plain": [
       "<IPython.core.display.Markdown object>"
      ]
     },
     "metadata": {},
     "output_type": "display_data"
    },
    {
     "name": "stdout",
     "output_type": "stream",
     "text": [
      "Enter your name: Marie Therese R. Macaranas\n",
      "Enter your Student ID: 183004\n"
     ]
    },
    {
     "data": {
      "text/markdown": [
       "***"
      ],
      "text/plain": [
       "<IPython.core.display.Markdown object>"
      ]
     },
     "metadata": {},
     "output_type": "display_data"
    },
    {
     "data": {
      "text/markdown": [
       "  "
      ],
      "text/plain": [
       "<IPython.core.display.Markdown object>"
      ]
     },
     "metadata": {},
     "output_type": "display_data"
    },
    {
     "data": {
      "text/markdown": [
       "# 03a6a7beb116e59dec80d5e2ed5539f8"
      ],
      "text/plain": [
       "<IPython.core.display.Markdown object>"
      ]
     },
     "metadata": {},
     "output_type": "display_data"
    },
    {
     "data": {
      "text/markdown": [
       "#### Name: Marie Therese R. Macaranas"
      ],
      "text/plain": [
       "<IPython.core.display.Markdown object>"
      ]
     },
     "metadata": {},
     "output_type": "display_data"
    },
    {
     "data": {
      "text/markdown": [
       "#### Student ID: 183004"
      ],
      "text/plain": [
       "<IPython.core.display.Markdown object>"
      ]
     },
     "metadata": {},
     "output_type": "display_data"
    },
    {
     "data": {
      "text/markdown": [
       "  "
      ],
      "text/plain": [
       "<IPython.core.display.Markdown object>"
      ]
     },
     "metadata": {},
     "output_type": "display_data"
    },
    {
     "data": {
      "text/markdown": [
       "  "
      ],
      "text/plain": [
       "<IPython.core.display.Markdown object>"
      ]
     },
     "metadata": {},
     "output_type": "display_data"
    },
    {
     "data": {
      "text/markdown": [
       "  "
      ],
      "text/plain": [
       "<IPython.core.display.Markdown object>"
      ]
     },
     "metadata": {},
     "output_type": "display_data"
    },
    {
     "data": {
      "text/markdown": [
       "***"
      ],
      "text/plain": [
       "<IPython.core.display.Markdown object>"
      ]
     },
     "metadata": {},
     "output_type": "display_data"
    },
    {
     "data": {
      "text/markdown": [
       "You're all set!"
      ],
      "text/plain": [
       "<IPython.core.display.Markdown object>"
      ]
     },
     "metadata": {},
     "output_type": "display_data"
    },
    {
     "data": {
      "text/markdown": [
       "Submit the sheet of paper with your name and Student ID number to your instructor."
      ],
      "text/plain": [
       "<IPython.core.display.Markdown object>"
      ]
     },
     "metadata": {},
     "output_type": "display_data"
    },
    {
     "data": {
      "text/markdown": [
       "As alternative, show this screen to your instructor for photo capture before leaving the room."
      ],
      "text/plain": [
       "<IPython.core.display.Markdown object>"
      ]
     },
     "metadata": {},
     "output_type": "display_data"
    },
    {
     "data": {
      "text/markdown": [
       "Don't forget to commit your Long Test notebook file and the file **183004_hashfile.txt** to your Github repository as soon as you have Internet access."
      ],
      "text/plain": [
       "<IPython.core.display.Markdown object>"
      ]
     },
     "metadata": {},
     "output_type": "display_data"
    },
    {
     "data": {
      "text/markdown": [
       "Relax, and have a good night!"
      ],
      "text/plain": [
       "<IPython.core.display.Markdown object>"
      ]
     },
     "metadata": {},
     "output_type": "display_data"
    }
   ],
   "source": [
    "import hashlib\n",
    "\n",
    "from IPython.display import display, Markdown, Latex\n",
    "\n",
    "def sign_exam():\n",
    "    HASH_FILE_NAME=\"hash.txt\"\n",
    "    student_name=input(\"Enter your name: \")\n",
    "    student_id=input(\"Enter your Student ID: \")\n",
    "    answered_exam_contents = \"\"\n",
    "    with open(EXAM_FILE_NAME) as exam_file:\n",
    "        answered_exam_contents = exam_file.read()\n",
    "        \n",
    "    #hash_object = hashlib.sha256(answered_exam_contents.encode(\"utf-8\"))\n",
    "    hash_object = hashlib.md5(answered_exam_contents.encode(\"utf-8\"))\n",
    "    #hex_dig = hash_object.hexdigest()\n",
    "    dig = hash_object.hexdigest()\n",
    "    display(Markdown(\"***\"))\n",
    "    display(Markdown(\"  \"))\n",
    "    display(Markdown(\"# {}\".format(dig))) \n",
    "    display(Markdown(\"#### Name: {}\".format(student_name)))\n",
    "    display(Markdown(\"#### Student ID: {}\".format(student_id))) \n",
    "    # write hash info to file\n",
    "    with open(student_id+\"_\"+HASH_FILE_NAME,\"w\") as hash_file:\n",
    "        hash_file_lines = []\n",
    "        hash_file_lines.append(\"Hash: {}\\n\".format(dig))\n",
    "        hash_file_lines.append(\"Student Name: {}\\n\".format(student_name))\n",
    "        hash_file_lines.append(\"Student ID: {}\\n\".format(student_id))\n",
    "        hash_file.writelines(hash_file_lines)\n",
    "        display(Markdown(\"  \"))\n",
    "        display(Markdown(\"  \"))\n",
    "        display(Markdown(\"  \"))\n",
    "        display(Markdown(\"***\"))\n",
    "        display(Markdown(\"You're all set!\"))\n",
    "        display(Markdown(\"Submit the sheet of paper with your name and Student ID number to your instructor.\")) \n",
    "        display(Markdown(\"As alternative, show this screen to your instructor for photo capture before leaving the room.\"))\n",
    "        display(Markdown(\"Don't forget to commit your Long Test notebook file and the file **{}_hashfile.txt** to your Github repository as soon as you have Internet access.\".format(student_id)))\n",
    "        display(Markdown(\"Relax, and have a good night!\"))\n",
    "\n",
    "display(Markdown(\"**Write down on a piece of paper the series of 32 large characters you see below:**\"))   \n",
    "sign_exam()\n",
    "\n",
    " "
   ]
  },
  {
   "cell_type": "code",
   "execution_count": null,
   "metadata": {},
   "outputs": [],
   "source": []
  },
  {
   "cell_type": "code",
   "execution_count": null,
   "metadata": {},
   "outputs": [],
   "source": []
  }
 ],
 "metadata": {
  "kernelspec": {
   "display_name": "Python 3",
   "language": "python",
   "name": "python3"
  },
  "language_info": {
   "codemirror_mode": {
    "name": "ipython",
    "version": 3
   },
   "file_extension": ".py",
   "mimetype": "text/x-python",
   "name": "python",
   "nbconvert_exporter": "python",
   "pygments_lexer": "ipython3",
   "version": "3.7.3"
  }
 },
 "nbformat": 4,
 "nbformat_minor": 2
}
